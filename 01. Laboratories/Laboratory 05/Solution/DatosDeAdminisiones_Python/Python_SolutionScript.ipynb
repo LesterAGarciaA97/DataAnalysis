{
 "cells": [
  {
   "cell_type": "markdown",
   "metadata": {},
   "source": [
    "# Datos de Admisiones"
   ]
  },
  {
   "cell_type": "markdown",
   "metadata": {},
   "source": [
    "## Librerías a utilizar"
   ]
  },
  {
   "cell_type": "code",
   "execution_count": 2,
   "metadata": {},
   "outputs": [],
   "source": [
    "# Importar librerías necesarias para trabajar el análisis de datos\n",
    "import pandas as pd\n",
    "import numpy as np\n",
    "import pyodbc\n",
    "from matplotlib import pyplot as plt"
   ]
  },
  {
   "cell_type": "markdown",
   "metadata": {},
   "source": [
    "## A. Crear una conexión a SQL Server y usar base de datos de 'AdmisionesDWH'"
   ]
  },
  {
   "cell_type": "code",
   "execution_count": 3,
   "metadata": {},
   "outputs": [],
   "source": [
    "cnc = pyodbc.connect('Driver={SQL Server};'\n",
    "                          'Server=ACER-PREDATOR-H\\DEVELOPER_SQL;'\n",
    "                          'Database=Admisiones_DWH;'\n",
    "                          'Trusted_Connection=yes;')"
   ]
  },
  {
   "cell_type": "markdown",
   "metadata": {},
   "source": [
    "## B. Utilizar las librerías para manipulación de datos vistas en clase y crear data frames para las siguientes operaciones:"
   ]
  },
  {
   "cell_type": "markdown",
   "metadata": {},
   "source": [
    "### i. Conteo de la cantidad de exámenes que se realizaron agrupado por facultad"
   ]
  },
  {
   "cell_type": "code",
   "execution_count": 4,
   "metadata": {},
   "outputs": [],
   "source": [
    "data = pd.read_sql('select * from fact.examen e '\n",
    "\t               + ' inner join dimension.carrera car on e.sk_carrera=car.sk_carrera' \n",
    "\t               + ' inner join dimension.Candidato can on e.SK_Candidato = can.SK_Candidato' \n",
    "\t               + ' inner join dimension.Fecha f on e.DateKey = f.DateKey',cnc)"
   ]
  },
  {
   "cell_type": "code",
   "execution_count": null,
   "metadata": {},
   "outputs": [],
   "source": [
    "df_ExamenesPorFacultad = data.groupby('NombreFacultad').count()['ID_Examen'].reset_index(name='ConteoExamenes')\n",
    "df_ExamenesPorFacultad"
   ]
  },
  {
   "cell_type": "markdown",
   "metadata": {},
   "source": [
    "### ii. Conteo de la cantidad de candidatos agrupados por género"
   ]
  },
  {
   "cell_type": "code",
   "execution_count": null,
   "metadata": {},
   "outputs": [],
   "source": [
    "\n",
    "df_candidatosPorGenero = data.groupby('Genero').count()['ID_Examen'].reset_index(name='Candidatos')\n",
    "df_candidatosPorGenero"
   ]
  },
  {
   "cell_type": "markdown",
   "metadata": {},
   "source": [
    "### iii. Total de la cantidad de ingresos por evaluaciones (columna precio) que se ha recibido agrupado por carrera"
   ]
  },
  {
   "cell_type": "code",
   "execution_count": null,
   "metadata": {},
   "outputs": [],
   "source": [
    "df_ingresosPorCarrera = data.groupby('NombreCarrera').sum()['Precio'].reset_index(name='Monto total')\n",
    "df_ingresosPorCarrera"
   ]
  },
  {
   "cell_type": "markdown",
   "metadata": {},
   "source": [
    "### iv. DataFrame filtrado que contenga únicamente las tres facultades con el promedio de las notas más alto"
   ]
  },
  {
   "cell_type": "code",
   "execution_count": null,
   "metadata": {},
   "outputs": [],
   "source": [
    "df_Top3PromediosPorCarrera = (data.groupby('NombreCarrera').mean()['NotaTotal'].reset_index(name='Promedio nota')).sort_values(by='Promedio nota', ascending = False).head(3)\n",
    "df_Top3PromediosPorCarrera"
   ]
  },
  {
   "cell_type": "markdown",
   "metadata": {},
   "source": [
    "## c. Utilizar las librerías para plot y crear las siguientes gráficas:"
   ]
  },
  {
   "cell_type": "markdown",
   "metadata": {},
   "source": [
    "### i. Gráfico de pie con la cantidad de exámenes agrupados por facultad"
   ]
  },
  {
   "cell_type": "code",
   "execution_count": null,
   "metadata": {},
   "outputs": [],
   "source": [
    "\n",
    "plt.pie(df_ExamenesXFacultad['ConteoExamenes'],labels=df_ExamenesXFacultad.NombreFacultad,autopct='%1.1f%%')"
   ]
  },
  {
   "cell_type": "markdown",
   "metadata": {},
   "source": [
    "### iii. Gráfico de líneaS con la cantidad de exámenes por año\n"
   ]
  },
  {
   "cell_type": "code",
   "execution_count": null,
   "metadata": {},
   "outputs": [],
   "source": [
    "df_examenesPorAnio = data.groupby('Year').count()['ID_Examen'].reset_index(name='Examenes')\n",
    "df_examenesPorAnio"
   ]
  },
  {
   "cell_type": "code",
   "execution_count": null,
   "metadata": {},
   "outputs": [],
   "source": [
    "df_examenesPorAnio.plot.line(x=\"Year\", y=\"Examenes\")"
   ]
  }
 ],
 "metadata": {
  "interpreter": {
   "hash": "63fd5069d213b44bf678585dea6b12cceca9941eaf7f819626cde1f2670de90d"
  },
  "kernelspec": {
   "display_name": "Python 3.9.7 64-bit",
   "name": "python3"
  },
  "language_info": {
   "codemirror_mode": {
    "name": "ipython",
    "version": 3
   },
   "file_extension": ".py",
   "mimetype": "text/x-python",
   "name": "python",
   "nbconvert_exporter": "python",
   "pygments_lexer": "ipython3",
   "version": "3.9.7"
  },
  "orig_nbformat": 4
 },
 "nbformat": 4,
 "nbformat_minor": 2
}
